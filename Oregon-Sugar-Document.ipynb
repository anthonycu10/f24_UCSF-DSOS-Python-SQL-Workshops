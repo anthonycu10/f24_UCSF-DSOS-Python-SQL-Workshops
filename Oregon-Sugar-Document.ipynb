{
 "cells": [
  {
   "cell_type": "code",
   "execution_count": 2,
   "id": "30c15e13-9a4a-436a-ba7e-d8328069e196",
   "metadata": {},
   "outputs": [],
   "source": [
    "import pandas as pd"
   ]
  },
  {
   "cell_type": "code",
   "execution_count": 7,
   "id": "86cb9c67-4164-4258-913a-4e0136f486f4",
   "metadata": {},
   "outputs": [],
   "source": [
    "pd.options.display.max_columns = None\n",
    "#pd.options.display.max_rows = None"
   ]
  },
  {
   "cell_type": "code",
   "execution_count": 5,
   "id": "1a99a2f4-a4a2-4892-97d1-8c6ef85317ce",
   "metadata": {},
   "outputs": [],
   "source": [
    "df_oregon = pd.read_csv(\"/Users/nms-workshop/Downloads/Oregon_State_University_Sugar_Research_Collection.csv\", sep=\"|\")"
   ]
  },
  {
   "cell_type": "code",
   "execution_count": 10,
   "id": "dbba4133-065e-4851-a02a-8961833718be",
   "metadata": {},
   "outputs": [
    {
     "data": {
      "text/plain": [
       "Index(['id', 'tid', 'bates', 'type', 'description', 'title', 'author',\n",
       "       'mentioned', 'attending', 'copied', 'recipient', 'redacted',\n",
       "       'collection_name', 'pages', 'exhibit_number', 'document_date',\n",
       "       'date_added_ucsf', 'date_modified_ucsf', 'date_added_industry',\n",
       "       'date_modified_industry', 'date_produced', 'date_shipped',\n",
       "       'deposition_date', 'date_privilege_logged', 'case', 'industry', 'drug',\n",
       "       'adverse_ruling', 'area', 'bates_alternate', 'box', 'brand', 'country',\n",
       "       'language', 'court', 'format', 'express_waiver', 'file', 'genre',\n",
       "       'keywords', 'bates_master', 'other_number', 'request_number',\n",
       "       'minnesota_request_number', 'privilege_code', 'topic', 'witness',\n",
       "       'cited', 'availability', 'grant_number', 'source', 'folder', 'series',\n",
       "       'chemical', 'food', 'rights', 'ocr_text'],\n",
       "      dtype='object')"
      ]
     },
     "execution_count": 10,
     "metadata": {},
     "output_type": "execute_result"
    }
   ],
   "source": [
    "df_oregon.columns"
   ]
  },
  {
   "cell_type": "code",
   "execution_count": 15,
   "id": "b4e76c0b-374d-4f2d-b794-46e756f61e9f",
   "metadata": {},
   "outputs": [
    {
     "data": {
      "text/plain": [
       "'i< i. \\\\ -\\' <� R \"I     Id    SUGAR RESEARCH FOUNDATION,    N    �    I\\')s7    Project No.           121    Institution        rv     :,          *     \\' >lh jq    Project Director Subject    r,   :. ... Jc   J.U    �MBtwu 1 .: n �   a  p.. color a >. ,.-.-t,jre eo.st tasrita  ol  fr  itat    Unexpended Balance   ar^il 31             �   1957    Receipts:    Total:    Expenditures:    Salaries    Supervisor                               $    Professional Personnel     $ 13^7.38    Laboratory Wages                $       10,50    Total Salaries and  Wages    Equipment    Materials  and  Chemicals    Travel    T e 1. I>   T e 1..  o t �    cpendttut e -    Overhead   I hargr^    * 1397.52    I    i    -ilAC $    I   .    ..i:    TOI A I    RESEARCH < UNEXPENDED BAI AN<  i    ; . * 30    $ 2i*3b.75    I    ____,11     '"
      ]
     },
     "execution_count": 15,
     "metadata": {},
     "output_type": "execute_result"
    }
   ],
   "source": [
    "df_oregon.iloc[1]['ocr_text']"
   ]
  },
  {
   "cell_type": "code",
   "execution_count": 16,
   "id": "46e2fb76-3981-4ef4-9079-e8e68bde92bb",
   "metadata": {},
   "outputs": [
    {
     "data": {
      "text/plain": [
       "0         flue CO o.    3- ?>c:i i    xiflod pt-cti....\n",
       "1     i< i. \\ -' <� R \"I     Id    SUGAR RESEARCH FO...\n",
       "2     Tnflua nr ox Snjhr* on the \"ata of   anradatio...\n",
       "3     NuciAR Research ['ouriDAnon liu    H    H    H...\n",
       "4     H   H   H A S S    Sugar Research FounDAnon.In...\n",
       "5     :*rnh 29, 1957    AH MAIL    Klu  Baam Garcia,...\n",
       "6         ^oconror 2b,  1-6    \"tits F*no   orela   ...\n",
       "7     ep      .*T 2f,   lv>6    jr. J hn L. ' ickson...\n",
       "8     rown, Jar* a  ' . � pool    rtlo    1    r.   ...\n",
       "9         m kO        ' � 'HAL K* -E!T �        '   ...\n",
       "10    Dr. Johr. I ic*aor.                           ...\n",
       "11        p    AofMt 10, 1�5    !�. J. L. Hl<    '.j...\n",
       "12    \\l(..\\K r\\IM.\\K<  H KmIMI).\\IU>II.Iik    h  i ...\n",
       "13    I>ar Dr.  -tickso   :    Thank yo�   for    ou...\n",
       "14    -    �Efcriuur  * umrOT��no            0*00*. ...\n",
       "15                QUABTFwLr W'fJtT    July 1, 19!>e ...\n",
       "16    -U-*  :',  * /        ss*j    .....    . -ait*...\n",
       "17            7    r.nu_\\K)iL *t O.S.-;.    fMt    X...\n",
       "18                �$    9  '    3    all    ?.-aot v...\n",
       "19    vSlK.AK RhSKARC M loilDDAIIOII.IlH        �   ...\n",
       "20    -sly 29, 1955    J_____a    It.  :i. d. Haaa, ...\n",
       "21    �-� Is   2 ,  - 53    �-.    .    �   '-i �eer...\n",
       "22    \\k..\\k l\\tM.\\K< h I ouru).\\iion.ln< .    -    ...\n",
       "23    Jul    r,   �   5    r.    .    �    irecto:  ...\n",
       "24        r       - ?* :                            ...\n",
       "25    SIP ISAM R�\"ORT �Tha Rolo of ^waatanrrs in tha...\n",
       "26    Est!   <tad Cost of Flavor evaluation Study on...\n",
       "27    Irat   ayo t,  :e-   arlac tfuMat. 3yU^r ?o, l...\n",
       "28        *b a* i k    -AOitetlafif .as* ftjHTna   t...\n",
       "29    sjptssrsr 3. 195h    -.    .    .   ^.a-,     ...\n",
       "30    �*>    P ^�*888gi    Sit    Hi I* Up IiH    iX...\n",
       "31    Sugar Research FounDAnon.Inc    METY-TWO w'ALI...\n",
       "32    -t 25, 1 54    .   t on,  Ins, all    -jwt    ...\n",
       "33    January 1�, 1953    fAt        Dr. H,. 2.   as...\n",
       "34    Sugar Research loumwrion.IiK.    FIFTY-TWO WAL...\n",
       "35    Sugar Research FounDAnon.Inc.    Kim TWOWAL1  ...\n",
       "36    Quartermaator Rrsearch and Eaginenunttg9    U ...\n",
       "37    February 22, 196J    Dr. John L. Hickeon Direc...\n",
       "38    Sugar Research KouuDAnon.Inc.    �v    yft    ...\n",
       "39    Sugar Research FounDAnon.Inc.    hhy rwo wai i...\n",
       "40    November 17,  1971    MEMO TO:          Group ...\n",
       "41    International Sugar Xvesearcii It'oundatiON, I...\n",
       "42        May 25, 1946    Mr. R. F. Phillips, Asaip-...\n",
       "43    SKETCH OUTLINE OF BLACK-TAILED DEER FEEDING ST...\n",
       "44    Sugar Is the Foundation of All Life    By Dr. ...\n",
       "45    Oome facts about the    SUGAR RESEARCH FOUNDAT...\n",
       "46    Sugar in Industry    By Dr. Robert C. Hockett ...\n",
       "Name: ocr_text, dtype: object"
      ]
     },
     "execution_count": 16,
     "metadata": {},
     "output_type": "execute_result"
    }
   ],
   "source": [
    "df_oregon['ocr_text']"
   ]
  },
  {
   "cell_type": "code",
   "execution_count": 19,
   "id": "6f5ea30b-997b-4df3-9008-9e13f5669881",
   "metadata": {},
   "outputs": [
    {
     "data": {
      "text/plain": [
       "'SIP ISAM R�\"ORT �Tha Rolo of ^waatanrrs in tha rrasrrratien of Fruits\"    *-ood    echnoloty ^auartoant Oraoan � tata Collie    *ar*,oli 0 trawoarriaa fro*, tnraa diffrrrnt localitiaa in Or�gan �&� . rotio an ar fiareral dlffaranl traatnrnta coaprising diffarancaa in tor areata �rs addad to to* fruit prior to froaain, , differences In tha fruiVaaoaW^ara ratio, and arthor  of �     1: cation of sueeterer*. .araatetwra uuad �� ra aaeroaa, a cm. inatior of sueroaa anu dartroaa, >od*x, and a eaob.ra.tic.   o       . .-rose ind rrot.ox*    Tha jamea aara aar.ufaeturad into preaorras anci ioa otmw toppings after staraf* periods of 3 and b-oor. tha.    \"ha Croc 9-    v-rriaa ard tha aanufaotursd pro ucte    t* �roadjian\\' tor quality ciormctarratios at tha and of toe storage + . ioda, and tfao raaulla detained art .   ua, for publication*    Sua roes � aappad beTiea and products aonufacturad    rot found suparior in carta in quality characteristics, i.�., drained weight of froaai) fruit and  flavor of strawberry ar�*s- rve, as anayortd to otf-r    raar-ianta used In thin  work.    April 2?,  1055         Pro>et    ^. IS? Titlet     The �ole    f ..wuetu i       �pO\"tO in the    ruam-/ tio . of   fuite. nropoativI     .til �.      r dor.; to          una u-arlrq; fiss.-.l vt.ar 1�$S*S**)    3 ib-crojcct tLtJoi    The r la of swetc i ..�   an to in atrarbarrioa,  a ricota,    and paaahaa, froaa    for  liruct cos nptior a�*.    or th*. pre^crre trada.    1*    T its to uaai    _ trawbarriea, paoctoa, and apricots or charr   a.    2.    jwoetoncrst    Jjctmm, ^ucroae/ iortmoe, <ucrose/Tradra*, and   rodax*    3*    Ratios of fruit:sraatoratr, and  aathods of sweetener ap lication:    .     . f        la i--rLrBd    2.    n ?  1    hand-aijasd    .    9 ? 1    oap-ing    �    no aaastaror - control    U*   Type of pack and quant! tyt      ach treatment 20 tan pound caio    and 32    ))3 cans    5.    arount of fr.it naedad a 2300 lbs* net    Loasea in prajparrtiont      r>cfora laaaaa    paaonaa k�------------EF*T~    anrieote U0.\\' --------��     3*3$    eharriaa 2^-----------28T5    strrMbar.iaa 1$*------      2?10    n*   Type, siaa, and njavbo.   of cans reach)At    a*    \"Hctio    top, fruit-rrc.airr, 10-lba canat    780    b.     o. 303, barry-e aael cam                                12!.:\"    7*   Products to prspare frow ftriita:      roaarsas and jaws.    o*    A aunts of sweeteners naaded for   r aai   fruits:    I arose O0 lbs* juctroae loo lba* Toaar     Woo lba*    /�    Teats to run on Fresh Fruits i    a*   vitawdn C .    Total acid ty *    a*    Tola    soluble solids    d*    Color Bj !.-inter readings 10*   Taats to ri                        r  itai    a.     \\'ltaain C    \\'.     -2-    T>.     T-tal acidity and pK.    c.     Drained wel ht vSnsll can)    d.     Color by     ..tt a.-d A.  ...  score    e.           ....  accre for character of :r    11.     ;ui.ta or.   reserves or Jam a*    TitaeAn C    b*    -lavor (preference b    large state t panel)    C.       \\\\, �*. . �    %XW3M    d*      olor; Hunter and A*H.S* a*      nvart aogar    12.     Cost of ruamng large stuoant ngftel tests:    as\\'.   �ta<<  at    1,\\'   : �* of testa naad-d:    aptaariaataly .-J testa*    Suggested .iroca lore  for teatlirt    a.    Test J tsb stads froai | S> 1 pack Wet    b*   Tart Jack, aada fro* 6 4 1 ptedk M oa    c.    Coat   am aada froa     f 1 pack twica    d*   \"est control against tha baat of a, b,  and c,  tafioa    This aaam 6 teats x 3 ft-ii a a 22* at 3 aontha.    ? 2ii st   \\' worths.    TaT\" total     Re ort  to    ...;ar � r. �i.rc        .    .ation,  -nc.    January 1,  1- 55          ril 1,    ..�.Jt^tutl^:      arnLon    tat� Collr.r,     o-     .\"CJi  1 n   at    Iractur:      Jr.  � �.    . -crultz .j\\'ect:              <ol� of -weatenerr  in  th�   \\' �serration of    nits    �        srxararara    JnaxT�* d�d   laiaBee\\'    Jareary  1, 1955 �ceiota�    - al � Fxuwndlturasi � olariaei    ap�rv scr    rofmsional     -raonnel      1251. O    laboratory *ag�a               ____fj    Tc\\'^1    alaries ann    ... �>s                         195d.21 ...      .:���                                                          -----------    at�rials                     -lr                                  235.50    rav�l                                                                    1.29    Tal*        \"1.,     \\'fie� Su        �::,   ��tc.        _______    fatal   *         *  r�s Ovwhm    e *r             of                              __________    _____   1 .  1  55         jut-wary of rrogi �The .ol.-1 of -weet�ne�-s in th� r*raa-rvatior of .\"\\'ruite\"    -reserves and ice ereaa top. ings harm been mde    f all tha experi-rental lots of atrrwbarries, and �valuation tests have been run, for tha second storage period, on the frozen ~erri�E as w�U as tha mno-faeturad nradaeta.    Results ar� being statistioally analysed.    A publication is b�inx prepared and shcuL   be rmdy by the end of April*    The results are �xpeated to show the different sweeteners to Save tha aaaa affects en tha frosen perries as wall as the mnufactured    pro/iucta, though auci sj - aaam to nave batter effeat on oartaln quality f-etors*    Tha use o\\' a la. ga atenant panel far flavor evaluation testa la tasted for next yr\\'s work.    Aim suggested la the fraaslng of three different fruits instead ef only strewnarriaa*         Sun-wry of  r-ogress on    \" ..     � Is of \\'~eee<.e: �r:    in tne Pre-ervati n of  Fruits\"    Preserves ana ice-cress to;   i-. | hsv� been aada of all ?\\'* e.jari-wantal lots, and evaluat.on tests have .sen run, for the first interval, on the frozen carries as wall as tha manufactured products.    Organoleptic evaluation of tr� frozen barrier showed that o*.  log with either sucros� or frodax results in a batter appearance (color and texture).    It ir  suggested at .his stage that mixing of tn� berries with rugar causae sane daxa^e which   ..     voided oy capping.    This Is nloo suggested oy res.Its -*->tain<-d fro* A� ar-_ratlons of drained weights.    Flavor avalutt_an of preserves revealed no significant    if fare-ice iue  to swaataner used with  the frozen berries.    Instruiaental co.or -Msure-wnts showed no significant difference oetween tha color*,  o.  the experimental preserves, ice-cre*. -j.-iags, or frozen jerries.    vther re.   Its on Titanic C, pi., .              1 y do net alien any general    inclusion.    i.tere ere t.v.iea  .one tet frodax  ices  possess a flavor of its own. Individual tastara   av� oeen sola to ess ly Idartify frodax sanations from eqi&lly sweet     .c-oee solutions.    Arrengauents �ro               ..d> to  find out    whether  hds frodax  flavor Is generally nxr   cad and  -c    �t�r-.in� its aesiraoility.        ir �             t-oanel will be used far this parpoee.    Another set of preaerr-s am  iee-crea    to pin i   will j*   -ado at  tha six aontha interval   .. ich starts on Jec.-wauer 23,  and all  testa will be i�rfor-ied   ->n this  new set and rep a ted  OB  the first '"
      ]
     },
     "execution_count": 19,
     "metadata": {},
     "output_type": "execute_result"
    }
   ],
   "source": [
    "df_oregon.iloc[25]['ocr_text']"
   ]
  },
  {
   "cell_type": "code",
   "execution_count": null,
   "id": "e69e69fc-811e-4eba-b8c1-e66e5363d24e",
   "metadata": {},
   "outputs": [],
   "source": []
  }
 ],
 "metadata": {
  "kernelspec": {
   "display_name": "Python 3 (ipykernel)",
   "language": "python",
   "name": "python3"
  },
  "language_info": {
   "codemirror_mode": {
    "name": "ipython",
    "version": 3
   },
   "file_extension": ".py",
   "mimetype": "text/x-python",
   "name": "python",
   "nbconvert_exporter": "python",
   "pygments_lexer": "ipython3",
   "version": "3.10.9"
  }
 },
 "nbformat": 4,
 "nbformat_minor": 5
}
