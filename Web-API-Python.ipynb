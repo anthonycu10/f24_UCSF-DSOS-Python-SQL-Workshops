{
 "cells": [
  {
   "cell_type": "code",
   "execution_count": 50,
   "id": "9174637c-26db-48ad-97b2-e47a9c255203",
   "metadata": {},
   "outputs": [],
   "source": [
    "# https://rxnav.nlm.nih.gov/REST/drugs.json?name=aspirin"
   ]
  },
  {
   "cell_type": "code",
   "execution_count": 51,
   "id": "4bf1590e-61a9-41c0-9b23-da0e6c32ac32",
   "metadata": {},
   "outputs": [],
   "source": [
    "import requests"
   ]
  },
  {
   "cell_type": "code",
   "execution_count": 52,
   "id": "747ecdd7-febe-498c-ab90-e4202e3084d8",
   "metadata": {},
   "outputs": [],
   "source": [
    "url = \"https://rxnav.nlm.nih.gov/REST/drugs.json?name=aspirin\""
   ]
  },
  {
   "cell_type": "code",
   "execution_count": 53,
   "id": "27a2d4ff-4caa-4f2d-aff9-7a8fb6db0867",
   "metadata": {},
   "outputs": [],
   "source": [
    "#url"
   ]
  },
  {
   "cell_type": "code",
   "execution_count": 54,
   "id": "a7145c43-aca1-4543-8340-529549471e85",
   "metadata": {},
   "outputs": [],
   "source": [
    "r = requests.get(url)"
   ]
  },
  {
   "cell_type": "code",
   "execution_count": 55,
   "id": "b29c190d-eabb-4926-a318-62cf756e118d",
   "metadata": {},
   "outputs": [],
   "source": [
    "#r"
   ]
  },
  {
   "cell_type": "code",
   "execution_count": 56,
   "id": "b3afd05f-9753-4607-8bdb-eb52536c11a5",
   "metadata": {},
   "outputs": [],
   "source": [
    "aspirin_dictionary = r.json()"
   ]
  },
  {
   "cell_type": "code",
   "execution_count": 66,
   "id": "2accc713-bc06-4c3c-96e2-9aba65ba29e8",
   "metadata": {},
   "outputs": [],
   "source": [
    "#aspirin_dictionary"
   ]
  },
  {
   "cell_type": "code",
   "execution_count": 58,
   "id": "b75ad730-28d5-45fd-8597-da15f5a51e41",
   "metadata": {},
   "outputs": [
    {
     "data": {
      "text/plain": [
       "dict_keys(['drugGroup'])"
      ]
     },
     "execution_count": 58,
     "metadata": {},
     "output_type": "execute_result"
    }
   ],
   "source": [
    "aspirin_dictionary.keys()"
   ]
  },
  {
   "cell_type": "code",
   "execution_count": 59,
   "id": "0ce13b1c-6a20-4608-aca9-fff9d1f5d643",
   "metadata": {},
   "outputs": [
    {
     "data": {
      "text/plain": [
       "dict_keys(['name', 'conceptGroup'])"
      ]
     },
     "execution_count": 59,
     "metadata": {},
     "output_type": "execute_result"
    }
   ],
   "source": [
    "aspirin_dictionary['drugGroup'].keys()"
   ]
  },
  {
   "cell_type": "code",
   "execution_count": 67,
   "id": "054516a9-ca1a-467e-a586-608157491aa2",
   "metadata": {},
   "outputs": [],
   "source": [
    "#aspirin_dictionary['drugGroup']['conceptGroup'][0]"
   ]
  },
  {
   "cell_type": "code",
   "execution_count": 61,
   "id": "3a329f5e-1e04-4eb6-a361-3cf692683ae0",
   "metadata": {},
   "outputs": [
    {
     "data": {
      "text/plain": [
       "'Excedrin PM Triple Action Caplets and Excedrin Extra Strength Pain Reliever Kit'"
      ]
     },
     "execution_count": 61,
     "metadata": {},
     "output_type": "execute_result"
    }
   ],
   "source": [
    "aspirin_dictionary['drugGroup']['conceptGroup'][0]['conceptProperties'][0]['synonym']"
   ]
  },
  {
   "cell_type": "code",
   "execution_count": 62,
   "id": "25161826-65bc-414a-9d2c-4f2b2d6159e1",
   "metadata": {},
   "outputs": [],
   "source": [
    "# let's write a loop to get all of the synonyms for aspirin in this JSON document"
   ]
  },
  {
   "cell_type": "code",
   "execution_count": 63,
   "id": "926b1110-c2b8-46f3-9f26-21e14d3a2fae",
   "metadata": {},
   "outputs": [
    {
     "name": "stdout",
     "output_type": "stream",
     "text": [
      "Excedrin PM Triple Action Caplets and Excedrin Extra Strength Pain Reliever Kit\n",
      "\n",
      "1 daytime (aspirin 325 MG / dextromethorphan HBr 10 MG / phenylephrine bitartrate 7.8 MG Effervescent Oral Tablet) / 1 nighttime (aspirin 500 MG / dextromethorphan HBr 10 MG / doxylamine succinate 6.25 MG / phenylephrine bitartrate 7.8 MG Effervescent Oral Tablet) Pack\n",
      "\n",
      "Ecpirin 325 MG Delayed Release Oral Tablet\n",
      "\n",
      "ASA 150 MG Rectal Suppository\n",
      "\n"
     ]
    }
   ],
   "source": [
    "for cg in aspirin_dictionary['drugGroup']['conceptGroup']:\n",
    "    if 'conceptProperties' in cg:\n",
    "        print(cg['conceptProperties'][0]['synonym'])\n",
    "        print()"
   ]
  },
  {
   "cell_type": "code",
   "execution_count": 64,
   "id": "a6d84ec2-7bfe-4c65-a96c-22080f218e2a",
   "metadata": {},
   "outputs": [],
   "source": [
    "# take 7 minutes to explore this web service and maybe look into a couple of others"
   ]
  },
  {
   "cell_type": "code",
   "execution_count": 65,
   "id": "1c8fc990-d08e-4e05-9566-775504836879",
   "metadata": {},
   "outputs": [],
   "source": [
    "# break until 10:40. \n",
    "# we will review the API for the industry documents library"
   ]
  },
  {
   "cell_type": "code",
   "execution_count": null,
   "id": "a185a921-ab55-4839-8991-36a489cc4348",
   "metadata": {},
   "outputs": [],
   "source": []
  }
 ],
 "metadata": {
  "kernelspec": {
   "display_name": "Python 3 (ipykernel)",
   "language": "python",
   "name": "python3"
  },
  "language_info": {
   "codemirror_mode": {
    "name": "ipython",
    "version": 3
   },
   "file_extension": ".py",
   "mimetype": "text/x-python",
   "name": "python",
   "nbconvert_exporter": "python",
   "pygments_lexer": "ipython3",
   "version": "3.11.7"
  }
 },
 "nbformat": 4,
 "nbformat_minor": 5
}
