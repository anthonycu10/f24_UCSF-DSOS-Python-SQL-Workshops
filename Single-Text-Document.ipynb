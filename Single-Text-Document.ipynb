{
 "cells": [
  {
   "cell_type": "code",
   "execution_count": 1,
   "id": "c65c84d3-521b-4622-998d-7a0b6b7b5923",
   "metadata": {},
   "outputs": [],
   "source": [
    "document_text = \"\"\"\n",
    "Economics (/ˌɛkəˈnɒmɪks, ˌiːkə-/)[1][2] is a social science that studies the production, distribution, and consumption of \n",
    "goods and services.[3][4]\n",
    "\n",
    "Economics focuses on the behaviour and interactions of economic agents and how economies work. Microeconomics analyses \n",
    "what is viewed as basic elements within economies, including individual agents and markets, their interactions, and the \n",
    "outcomes of interactions. Individual agents may include, for example, households, firms, buyers, and sellers. Macroeconomics \n",
    "analyses economies as systems where production, distribution, consumption, savings, and investment expenditure interact, and \n",
    "factors affecting it: factors of production, such as labour, capital, land, and enterprise, inflation, economic growth, and \n",
    "public policies that have impact on these elements. It also seeks to analyse and describe the global economy.\n",
    "\n",
    "Other broad distinctions within economics include those between positive economics, describing \"what is\", and normative economics, \n",
    "advocating \"what ought to be\";[5] between economic theory and applied economics; between rational and behavioural economics; and \n",
    "between mainstream economics and heterodox economics.[6]\n",
    "\n",
    "Economic analysis can be applied throughout society, including business,[7] finance, cybersecurity,[8] health care,[9] engineering[10] \n",
    "and government.[11] It is also applied to such diverse subjects as crime,[12] education,[13] the family,[14] feminism,[15] law,[16] \n",
    "philosophy,[17] politics, religion,[18] social institutions, war,[19] science,[20] and the environment.[21]\n",
    "\"\"\""
   ]
  },
  {
   "cell_type": "code",
   "execution_count": 2,
   "id": "908b9768-2404-4cf2-9965-7528ecfa7092",
   "metadata": {},
   "outputs": [],
   "source": [
    "#document_text = \"\"\"\n",
    "#\n",
    "#\"\"\""
   ]
  },
  {
   "cell_type": "code",
   "execution_count": 3,
   "id": "1dae8449-fc51-446c-b3ba-a883fa80a9ae",
   "metadata": {},
   "outputs": [
    {
     "name": "stdout",
     "output_type": "stream",
     "text": [
      "\n",
      "Economics (/ˌɛkəˈnɒmɪks, ˌiːkə-/)[1][2] is a social science that studies the production, distribution, and consumption of \n",
      "goods and services.[3][4]\n",
      "\n",
      "Economics focuses on the behaviour and interactions of economic agents and how economies work. Microeconomics analyses \n",
      "what is viewed as basic elements within economies, including individual agents and markets, their interactions, and the \n",
      "outcomes of interactions. Individual agents may include, for example, households, firms, buyers, and sellers. Macroeconomics \n",
      "analyses economies as systems where production, distribution, consumption, savings, and investment expenditure interact, and \n",
      "factors affecting it: factors of production, such as labour, capital, land, and enterprise, inflation, economic growth, and \n",
      "public policies that have impact on these elements. It also seeks to analyse and describe the global economy.\n",
      "\n",
      "Other broad distinctions within economics include those between positive economics, describing \"what is\", and normative economics, \n",
      "advocating \"what ought to be\";[5] between economic theory and applied economics; between rational and behavioural economics; and \n",
      "between mainstream economics and heterodox economics.[6]\n",
      "\n",
      "Economic analysis can be applied throughout society, including business,[7] finance, cybersecurity,[8] health care,[9] engineering[10] \n",
      "and government.[11] It is also applied to such diverse subjects as crime,[12] education,[13] the family,[14] feminism,[15] law,[16] \n",
      "philosophy,[17] politics, religion,[18] social institutions, war,[19] science,[20] and the environment.[21]\n",
      "\n"
     ]
    }
   ],
   "source": [
    "print(document_text)"
   ]
  },
  {
   "cell_type": "code",
   "execution_count": 4,
   "id": "e5971052-41b9-4dd6-a674-ee709906b666",
   "metadata": {},
   "outputs": [],
   "source": [
    "words = document_text.split()"
   ]
  },
  {
   "cell_type": "code",
   "execution_count": 5,
   "id": "57e9339c-eef7-445d-9299-7c65bd361d48",
   "metadata": {},
   "outputs": [],
   "source": [
    "#for w in words:\n",
    "#    print(w)"
   ]
  },
  {
   "cell_type": "code",
   "execution_count": 6,
   "id": "9302b644-aaba-4d43-b33d-1a931a42352c",
   "metadata": {},
   "outputs": [],
   "source": [
    "import re\n",
    "regex = re.compile('[^a-zA-Z]')"
   ]
  },
  {
   "cell_type": "code",
   "execution_count": 7,
   "id": "cdfe0664-e3b5-4420-9a25-5b9543bc51c0",
   "metadata": {},
   "outputs": [],
   "source": [
    "alpha_text = regex.sub(' ', document_text)"
   ]
  },
  {
   "cell_type": "code",
   "execution_count": 8,
   "id": "d7b8deba-4606-457b-b6f6-c99be00d0c00",
   "metadata": {},
   "outputs": [
    {
     "data": {
      "text/plain": [
       "' Economics     k  n m ks   i k           is a social science that studies the production  distribution  and consumption of  goods and services         Economics focuses on the behaviour and interactions of economic agents and how economies work  Microeconomics analyses  what is viewed as basic elements within economies  including individual agents and markets  their interactions  and the  outcomes of interactions  Individual agents may include  for example  households  firms  buyers  and sellers  Macroeconomics  analyses economies as systems where production  distribution  consumption  savings  and investment expenditure interact  and  factors affecting it  factors of production  such as labour  capital  land  and enterprise  inflation  economic growth  and  public policies that have impact on these elements  It also seeks to analyse and describe the global economy   Other broad distinctions within economics include those between positive economics  describing  what is   and normative economics   advocating  what ought to be      between economic theory and applied economics  between rational and behavioural economics  and  between mainstream economics and heterodox economics      Economic analysis can be applied throughout society  including business     finance  cybersecurity     health care     engineering      and government      It is also applied to such diverse subjects as crime      education      the family      feminism      law       philosophy      politics  religion      social institutions  war      science      and the environment      '"
      ]
     },
     "execution_count": 8,
     "metadata": {},
     "output_type": "execute_result"
    }
   ],
   "source": [
    "alpha_text"
   ]
  },
  {
   "cell_type": "code",
   "execution_count": 9,
   "id": "e5649d33-83f2-45ef-8eba-a75e14d8374a",
   "metadata": {},
   "outputs": [],
   "source": [
    "#document_text"
   ]
  },
  {
   "cell_type": "code",
   "execution_count": 10,
   "id": "9a206c4e-c698-485b-b9f0-38fe1eeaafa5",
   "metadata": {},
   "outputs": [
    {
     "name": "stderr",
     "output_type": "stream",
     "text": [
      "[nltk_data] Downloading package stopwords to /Users/nms-\n",
      "[nltk_data]     workshop/nltk_data...\n",
      "[nltk_data]   Package stopwords is already up-to-date!\n"
     ]
    },
    {
     "data": {
      "text/plain": [
       "True"
      ]
     },
     "execution_count": 10,
     "metadata": {},
     "output_type": "execute_result"
    }
   ],
   "source": [
    "import nltk\n",
    "from nltk.corpus import stopwords\n",
    "nltk.download('stopwords')"
   ]
  },
  {
   "cell_type": "code",
   "execution_count": 11,
   "id": "4a2f906e-da79-4982-bfaf-c9313b63d30a",
   "metadata": {},
   "outputs": [],
   "source": [
    "stop = stopwords.words('english')"
   ]
  },
  {
   "cell_type": "code",
   "execution_count": 12,
   "id": "2615cff9-24ef-4ff1-884b-d76c6fbd53cf",
   "metadata": {},
   "outputs": [],
   "source": [
    "#stop.sort()"
   ]
  },
  {
   "cell_type": "code",
   "execution_count": 13,
   "id": "a1a2244f-c6f3-4c36-9b1a-f9e5f1a00d4e",
   "metadata": {},
   "outputs": [
    {
     "data": {
      "text/plain": [
       "['i',\n",
       " 'me',\n",
       " 'my',\n",
       " 'myself',\n",
       " 'we',\n",
       " 'our',\n",
       " 'ours',\n",
       " 'ourselves',\n",
       " 'you',\n",
       " \"you're\",\n",
       " \"you've\",\n",
       " \"you'll\",\n",
       " \"you'd\",\n",
       " 'your',\n",
       " 'yours',\n",
       " 'yourself',\n",
       " 'yourselves',\n",
       " 'he',\n",
       " 'him',\n",
       " 'his',\n",
       " 'himself',\n",
       " 'she',\n",
       " \"she's\",\n",
       " 'her',\n",
       " 'hers',\n",
       " 'herself',\n",
       " 'it',\n",
       " \"it's\",\n",
       " 'its',\n",
       " 'itself',\n",
       " 'they',\n",
       " 'them',\n",
       " 'their',\n",
       " 'theirs',\n",
       " 'themselves',\n",
       " 'what',\n",
       " 'which',\n",
       " 'who',\n",
       " 'whom',\n",
       " 'this',\n",
       " 'that',\n",
       " \"that'll\",\n",
       " 'these',\n",
       " 'those',\n",
       " 'am',\n",
       " 'is',\n",
       " 'are',\n",
       " 'was',\n",
       " 'were',\n",
       " 'be',\n",
       " 'been',\n",
       " 'being',\n",
       " 'have',\n",
       " 'has',\n",
       " 'had',\n",
       " 'having',\n",
       " 'do',\n",
       " 'does',\n",
       " 'did',\n",
       " 'doing',\n",
       " 'a',\n",
       " 'an',\n",
       " 'the',\n",
       " 'and',\n",
       " 'but',\n",
       " 'if',\n",
       " 'or',\n",
       " 'because',\n",
       " 'as',\n",
       " 'until',\n",
       " 'while',\n",
       " 'of',\n",
       " 'at',\n",
       " 'by',\n",
       " 'for',\n",
       " 'with',\n",
       " 'about',\n",
       " 'against',\n",
       " 'between',\n",
       " 'into',\n",
       " 'through',\n",
       " 'during',\n",
       " 'before',\n",
       " 'after',\n",
       " 'above',\n",
       " 'below',\n",
       " 'to',\n",
       " 'from',\n",
       " 'up',\n",
       " 'down',\n",
       " 'in',\n",
       " 'out',\n",
       " 'on',\n",
       " 'off',\n",
       " 'over',\n",
       " 'under',\n",
       " 'again',\n",
       " 'further',\n",
       " 'then',\n",
       " 'once',\n",
       " 'here',\n",
       " 'there',\n",
       " 'when',\n",
       " 'where',\n",
       " 'why',\n",
       " 'how',\n",
       " 'all',\n",
       " 'any',\n",
       " 'both',\n",
       " 'each',\n",
       " 'few',\n",
       " 'more',\n",
       " 'most',\n",
       " 'other',\n",
       " 'some',\n",
       " 'such',\n",
       " 'no',\n",
       " 'nor',\n",
       " 'not',\n",
       " 'only',\n",
       " 'own',\n",
       " 'same',\n",
       " 'so',\n",
       " 'than',\n",
       " 'too',\n",
       " 'very',\n",
       " 's',\n",
       " 't',\n",
       " 'can',\n",
       " 'will',\n",
       " 'just',\n",
       " 'don',\n",
       " \"don't\",\n",
       " 'should',\n",
       " \"should've\",\n",
       " 'now',\n",
       " 'd',\n",
       " 'll',\n",
       " 'm',\n",
       " 'o',\n",
       " 're',\n",
       " 've',\n",
       " 'y',\n",
       " 'ain',\n",
       " 'aren',\n",
       " \"aren't\",\n",
       " 'couldn',\n",
       " \"couldn't\",\n",
       " 'didn',\n",
       " \"didn't\",\n",
       " 'doesn',\n",
       " \"doesn't\",\n",
       " 'hadn',\n",
       " \"hadn't\",\n",
       " 'hasn',\n",
       " \"hasn't\",\n",
       " 'haven',\n",
       " \"haven't\",\n",
       " 'isn',\n",
       " \"isn't\",\n",
       " 'ma',\n",
       " 'mightn',\n",
       " \"mightn't\",\n",
       " 'mustn',\n",
       " \"mustn't\",\n",
       " 'needn',\n",
       " \"needn't\",\n",
       " 'shan',\n",
       " \"shan't\",\n",
       " 'shouldn',\n",
       " \"shouldn't\",\n",
       " 'wasn',\n",
       " \"wasn't\",\n",
       " 'weren',\n",
       " \"weren't\",\n",
       " 'won',\n",
       " \"won't\",\n",
       " 'wouldn',\n",
       " \"wouldn't\"]"
      ]
     },
     "execution_count": 13,
     "metadata": {},
     "output_type": "execute_result"
    }
   ],
   "source": [
    "stop"
   ]
  },
  {
   "cell_type": "code",
   "execution_count": 14,
   "id": "12478b3d-7600-4fb7-a860-07573d8a564e",
   "metadata": {},
   "outputs": [],
   "source": [
    "alpha_words = alpha_text.split()"
   ]
  },
  {
   "cell_type": "code",
   "execution_count": 15,
   "id": "d26dd9ff-fe90-4534-b564-022f6cd84bda",
   "metadata": {},
   "outputs": [
    {
     "data": {
      "text/plain": [
       "['Economics',\n",
       " 'k',\n",
       " 'n',\n",
       " 'm',\n",
       " 'ks',\n",
       " 'i',\n",
       " 'k',\n",
       " 'is',\n",
       " 'a',\n",
       " 'social',\n",
       " 'science',\n",
       " 'that',\n",
       " 'studies',\n",
       " 'the',\n",
       " 'production',\n",
       " 'distribution',\n",
       " 'and',\n",
       " 'consumption',\n",
       " 'of',\n",
       " 'goods',\n",
       " 'and',\n",
       " 'services',\n",
       " 'Economics',\n",
       " 'focuses',\n",
       " 'on',\n",
       " 'the',\n",
       " 'behaviour',\n",
       " 'and',\n",
       " 'interactions',\n",
       " 'of',\n",
       " 'economic',\n",
       " 'agents',\n",
       " 'and',\n",
       " 'how',\n",
       " 'economies',\n",
       " 'work',\n",
       " 'Microeconomics',\n",
       " 'analyses',\n",
       " 'what',\n",
       " 'is',\n",
       " 'viewed',\n",
       " 'as',\n",
       " 'basic',\n",
       " 'elements',\n",
       " 'within',\n",
       " 'economies',\n",
       " 'including',\n",
       " 'individual',\n",
       " 'agents',\n",
       " 'and',\n",
       " 'markets',\n",
       " 'their',\n",
       " 'interactions',\n",
       " 'and',\n",
       " 'the',\n",
       " 'outcomes',\n",
       " 'of',\n",
       " 'interactions',\n",
       " 'Individual',\n",
       " 'agents',\n",
       " 'may',\n",
       " 'include',\n",
       " 'for',\n",
       " 'example',\n",
       " 'households',\n",
       " 'firms',\n",
       " 'buyers',\n",
       " 'and',\n",
       " 'sellers',\n",
       " 'Macroeconomics',\n",
       " 'analyses',\n",
       " 'economies',\n",
       " 'as',\n",
       " 'systems',\n",
       " 'where',\n",
       " 'production',\n",
       " 'distribution',\n",
       " 'consumption',\n",
       " 'savings',\n",
       " 'and',\n",
       " 'investment',\n",
       " 'expenditure',\n",
       " 'interact',\n",
       " 'and',\n",
       " 'factors',\n",
       " 'affecting',\n",
       " 'it',\n",
       " 'factors',\n",
       " 'of',\n",
       " 'production',\n",
       " 'such',\n",
       " 'as',\n",
       " 'labour',\n",
       " 'capital',\n",
       " 'land',\n",
       " 'and',\n",
       " 'enterprise',\n",
       " 'inflation',\n",
       " 'economic',\n",
       " 'growth',\n",
       " 'and',\n",
       " 'public',\n",
       " 'policies',\n",
       " 'that',\n",
       " 'have',\n",
       " 'impact',\n",
       " 'on',\n",
       " 'these',\n",
       " 'elements',\n",
       " 'It',\n",
       " 'also',\n",
       " 'seeks',\n",
       " 'to',\n",
       " 'analyse',\n",
       " 'and',\n",
       " 'describe',\n",
       " 'the',\n",
       " 'global',\n",
       " 'economy',\n",
       " 'Other',\n",
       " 'broad',\n",
       " 'distinctions',\n",
       " 'within',\n",
       " 'economics',\n",
       " 'include',\n",
       " 'those',\n",
       " 'between',\n",
       " 'positive',\n",
       " 'economics',\n",
       " 'describing',\n",
       " 'what',\n",
       " 'is',\n",
       " 'and',\n",
       " 'normative',\n",
       " 'economics',\n",
       " 'advocating',\n",
       " 'what',\n",
       " 'ought',\n",
       " 'to',\n",
       " 'be',\n",
       " 'between',\n",
       " 'economic',\n",
       " 'theory',\n",
       " 'and',\n",
       " 'applied',\n",
       " 'economics',\n",
       " 'between',\n",
       " 'rational',\n",
       " 'and',\n",
       " 'behavioural',\n",
       " 'economics',\n",
       " 'and',\n",
       " 'between',\n",
       " 'mainstream',\n",
       " 'economics',\n",
       " 'and',\n",
       " 'heterodox',\n",
       " 'economics',\n",
       " 'Economic',\n",
       " 'analysis',\n",
       " 'can',\n",
       " 'be',\n",
       " 'applied',\n",
       " 'throughout',\n",
       " 'society',\n",
       " 'including',\n",
       " 'business',\n",
       " 'finance',\n",
       " 'cybersecurity',\n",
       " 'health',\n",
       " 'care',\n",
       " 'engineering',\n",
       " 'and',\n",
       " 'government',\n",
       " 'It',\n",
       " 'is',\n",
       " 'also',\n",
       " 'applied',\n",
       " 'to',\n",
       " 'such',\n",
       " 'diverse',\n",
       " 'subjects',\n",
       " 'as',\n",
       " 'crime',\n",
       " 'education',\n",
       " 'the',\n",
       " 'family',\n",
       " 'feminism',\n",
       " 'law',\n",
       " 'philosophy',\n",
       " 'politics',\n",
       " 'religion',\n",
       " 'social',\n",
       " 'institutions',\n",
       " 'war',\n",
       " 'science',\n",
       " 'and',\n",
       " 'the',\n",
       " 'environment']"
      ]
     },
     "execution_count": 15,
     "metadata": {},
     "output_type": "execute_result"
    }
   ],
   "source": [
    "alpha_words"
   ]
  },
  {
   "cell_type": "code",
   "execution_count": 16,
   "id": "17a9f9fe-2298-412c-a7f0-b82217065ebb",
   "metadata": {},
   "outputs": [],
   "source": [
    "cleaned_text = []\n",
    "for w in alpha_words:\n",
    "    if (len(w) > 1) and (w not in stop):\n",
    "        #print(w.lower())\n",
    "        cleaned_text.append(w.lower())"
   ]
  },
  {
   "cell_type": "code",
   "execution_count": 17,
   "id": "ef160c4e-4bfb-4f5a-bd64-cef8c66e5524",
   "metadata": {},
   "outputs": [
    {
     "data": {
      "text/plain": [
       "'economics ks social science studies production distribution consumption goods services economics focuses behaviour interactions economic agents economies work microeconomics analyses viewed basic elements within economies including individual agents markets interactions outcomes interactions individual agents may include example households firms buyers sellers macroeconomics analyses economies systems production distribution consumption savings investment expenditure interact factors affecting factors production labour capital land enterprise inflation economic growth public policies impact elements it also seeks analyse describe global economy other broad distinctions within economics include positive economics describing normative economics advocating ought economic theory applied economics rational behavioural economics mainstream economics heterodox economics economic analysis applied throughout society including business finance cybersecurity health care engineering government it also applied diverse subjects crime education family feminism law philosophy politics religion social institutions war science environment'"
      ]
     },
     "execution_count": 17,
     "metadata": {},
     "output_type": "execute_result"
    }
   ],
   "source": [
    "' '.join(cleaned_text)"
   ]
  },
  {
   "cell_type": "code",
   "execution_count": 18,
   "id": "61dedc63-4b9f-4271-ac04-723bcee7bfa8",
   "metadata": {},
   "outputs": [],
   "source": [
    "# take 10 min break. if you like, try another document and run it through this pipeline"
   ]
  },
  {
   "cell_type": "code",
   "execution_count": 19,
   "id": "25d5a8c1-b345-4e8c-bdac-825eb2ae7c9f",
   "metadata": {},
   "outputs": [],
   "source": [
    "#resume at 10:10"
   ]
  },
  {
   "cell_type": "code",
   "execution_count": 20,
   "id": "66ce35f5-d8ad-4c9d-9c66-6569cf77c84d",
   "metadata": {},
   "outputs": [
    {
     "name": "stderr",
     "output_type": "stream",
     "text": [
      "[nltk_data] Downloading package wordnet to /Users/nms-\n",
      "[nltk_data]     workshop/nltk_data...\n",
      "[nltk_data]   Package wordnet is already up-to-date!\n"
     ]
    },
    {
     "data": {
      "text/plain": [
       "True"
      ]
     },
     "execution_count": 20,
     "metadata": {},
     "output_type": "execute_result"
    }
   ],
   "source": [
    "nltk.download('wordnet')"
   ]
  },
  {
   "cell_type": "code",
   "execution_count": 21,
   "id": "19548212-449b-4c42-b76f-3c9056a4a4f0",
   "metadata": {},
   "outputs": [],
   "source": [
    "from nltk.stem.porter import PorterStemmer\n",
    "stemmer = PorterStemmer()"
   ]
  },
  {
   "cell_type": "code",
   "execution_count": 22,
   "id": "a6b3ea78-d13b-4221-9a43-3755107e2a2c",
   "metadata": {},
   "outputs": [
    {
     "name": "stdout",
     "output_type": "stream",
     "text": [
      "econom\n"
     ]
    }
   ],
   "source": [
    "print(stemmer.stem(\"economics\"))"
   ]
  },
  {
   "cell_type": "code",
   "execution_count": 23,
   "id": "9e183f30-12bb-431b-a2c3-69e5e10eb0f8",
   "metadata": {},
   "outputs": [
    {
     "name": "stdout",
     "output_type": "stream",
     "text": [
      "econom\n"
     ]
    }
   ],
   "source": [
    "print(stemmer.stem(\"economical\"))"
   ]
  },
  {
   "cell_type": "code",
   "execution_count": 24,
   "id": "68df3008-809c-433f-a97f-f2071990f347",
   "metadata": {},
   "outputs": [
    {
     "name": "stdout",
     "output_type": "stream",
     "text": [
      "economi\n"
     ]
    }
   ],
   "source": [
    "print(stemmer.stem(\"economy\"))"
   ]
  },
  {
   "cell_type": "code",
   "execution_count": 25,
   "id": "e45baca3-66f3-4a78-afed-7c219f1a3a46",
   "metadata": {},
   "outputs": [],
   "source": [
    "from nltk.stem import WordNetLemmatizer\n",
    "lemmatizer = WordNetLemmatizer()"
   ]
  },
  {
   "cell_type": "code",
   "execution_count": 26,
   "id": "9b81d904-1888-4068-9e26-942bb94eefae",
   "metadata": {},
   "outputs": [
    {
     "name": "stdout",
     "output_type": "stream",
     "text": [
      "economics\n"
     ]
    }
   ],
   "source": [
    "print(lemmatizer.lemmatize(\"economics\"))"
   ]
  },
  {
   "cell_type": "code",
   "execution_count": 27,
   "id": "b75286c7-6423-4ec5-88ac-4b334735011d",
   "metadata": {},
   "outputs": [
    {
     "name": "stdout",
     "output_type": "stream",
     "text": [
      "economical\n"
     ]
    }
   ],
   "source": [
    "print(lemmatizer.lemmatize(\"economical\"))"
   ]
  },
  {
   "cell_type": "code",
   "execution_count": 28,
   "id": "fded08c0-44f6-4134-aad5-4587eb063482",
   "metadata": {},
   "outputs": [
    {
     "name": "stdout",
     "output_type": "stream",
     "text": [
      "economy\n"
     ]
    }
   ],
   "source": [
    "print(lemmatizer.lemmatize(\"economy\"))"
   ]
  },
  {
   "cell_type": "code",
   "execution_count": 29,
   "id": "ff36dd14-8993-4749-9886-7c1bf41d1913",
   "metadata": {},
   "outputs": [],
   "source": [
    "#I'm going to try to find a more illustrative example for a lemmatizer, feel free to try some that seem promising..."
   ]
  },
  {
   "cell_type": "code",
   "execution_count": 30,
   "id": "366c0416-225c-43c6-88ef-29dcfd7844ed",
   "metadata": {},
   "outputs": [
    {
     "name": "stdout",
     "output_type": "stream",
     "text": [
      "study\n",
      "studying\n",
      "study\n"
     ]
    }
   ],
   "source": [
    "print(lemmatizer.lemmatize(\"study\"))\n",
    "print(lemmatizer.lemmatize(\"studying\"))\n",
    "print(lemmatizer.lemmatize(\"studies\"))"
   ]
  },
  {
   "cell_type": "code",
   "execution_count": 31,
   "id": "bfca5316-4c06-4b71-ab6b-1ba086e8e619",
   "metadata": {},
   "outputs": [
    {
     "name": "stdout",
     "output_type": "stream",
     "text": [
      "studi\n",
      "studi\n",
      "studi\n"
     ]
    }
   ],
   "source": [
    "print(stemmer.stem(\"study\"))\n",
    "print(stemmer.stem(\"studying\"))\n",
    "print(stemmer.stem(\"studies\"))"
   ]
  },
  {
   "cell_type": "code",
   "execution_count": 32,
   "id": "ed80d919-9196-4864-beb0-424d2b25d8b9",
   "metadata": {},
   "outputs": [
    {
     "data": {
      "text/plain": [
       "['economics',\n",
       " 'ks',\n",
       " 'social',\n",
       " 'science',\n",
       " 'studies',\n",
       " 'production',\n",
       " 'distribution',\n",
       " 'consumption',\n",
       " 'goods',\n",
       " 'services',\n",
       " 'economics',\n",
       " 'focuses',\n",
       " 'behaviour',\n",
       " 'interactions',\n",
       " 'economic',\n",
       " 'agents',\n",
       " 'economies',\n",
       " 'work',\n",
       " 'microeconomics',\n",
       " 'analyses',\n",
       " 'viewed',\n",
       " 'basic',\n",
       " 'elements',\n",
       " 'within',\n",
       " 'economies',\n",
       " 'including',\n",
       " 'individual',\n",
       " 'agents',\n",
       " 'markets',\n",
       " 'interactions',\n",
       " 'outcomes',\n",
       " 'interactions',\n",
       " 'individual',\n",
       " 'agents',\n",
       " 'may',\n",
       " 'include',\n",
       " 'example',\n",
       " 'households',\n",
       " 'firms',\n",
       " 'buyers',\n",
       " 'sellers',\n",
       " 'macroeconomics',\n",
       " 'analyses',\n",
       " 'economies',\n",
       " 'systems',\n",
       " 'production',\n",
       " 'distribution',\n",
       " 'consumption',\n",
       " 'savings',\n",
       " 'investment',\n",
       " 'expenditure',\n",
       " 'interact',\n",
       " 'factors',\n",
       " 'affecting',\n",
       " 'factors',\n",
       " 'production',\n",
       " 'labour',\n",
       " 'capital',\n",
       " 'land',\n",
       " 'enterprise',\n",
       " 'inflation',\n",
       " 'economic',\n",
       " 'growth',\n",
       " 'public',\n",
       " 'policies',\n",
       " 'impact',\n",
       " 'elements',\n",
       " 'it',\n",
       " 'also',\n",
       " 'seeks',\n",
       " 'analyse',\n",
       " 'describe',\n",
       " 'global',\n",
       " 'economy',\n",
       " 'other',\n",
       " 'broad',\n",
       " 'distinctions',\n",
       " 'within',\n",
       " 'economics',\n",
       " 'include',\n",
       " 'positive',\n",
       " 'economics',\n",
       " 'describing',\n",
       " 'normative',\n",
       " 'economics',\n",
       " 'advocating',\n",
       " 'ought',\n",
       " 'economic',\n",
       " 'theory',\n",
       " 'applied',\n",
       " 'economics',\n",
       " 'rational',\n",
       " 'behavioural',\n",
       " 'economics',\n",
       " 'mainstream',\n",
       " 'economics',\n",
       " 'heterodox',\n",
       " 'economics',\n",
       " 'economic',\n",
       " 'analysis',\n",
       " 'applied',\n",
       " 'throughout',\n",
       " 'society',\n",
       " 'including',\n",
       " 'business',\n",
       " 'finance',\n",
       " 'cybersecurity',\n",
       " 'health',\n",
       " 'care',\n",
       " 'engineering',\n",
       " 'government',\n",
       " 'it',\n",
       " 'also',\n",
       " 'applied',\n",
       " 'diverse',\n",
       " 'subjects',\n",
       " 'crime',\n",
       " 'education',\n",
       " 'family',\n",
       " 'feminism',\n",
       " 'law',\n",
       " 'philosophy',\n",
       " 'politics',\n",
       " 'religion',\n",
       " 'social',\n",
       " 'institutions',\n",
       " 'war',\n",
       " 'science',\n",
       " 'environment']"
      ]
     },
     "execution_count": 32,
     "metadata": {},
     "output_type": "execute_result"
    }
   ],
   "source": [
    "cleaned_text"
   ]
  },
  {
   "cell_type": "code",
   "execution_count": 37,
   "id": "5c43e6ce-4ac5-4b86-bed2-9c70cc8307dd",
   "metadata": {},
   "outputs": [],
   "source": [
    "stem_text = []\n",
    "for w in cleaned_text:\n",
    "    #print(stemmer.stem(w))\n",
    "    stem_text.append(stemmer.stem(w))"
   ]
  },
  {
   "cell_type": "code",
   "execution_count": 38,
   "id": "0cef4c27-f7d9-41ed-bdb6-0611d38cc6c6",
   "metadata": {},
   "outputs": [
    {
     "name": "stdout",
     "output_type": "stream",
     "text": [
      "econom ks social scienc studi product distribut consumpt good servic econom focus behaviour interact econom agent economi work microeconom analys view basic element within economi includ individu agent market interact outcom interact individu agent may includ exampl household firm buyer seller macroeconom analys economi system product distribut consumpt save invest expenditur interact factor affect factor product labour capit land enterpris inflat econom growth public polici impact element it also seek analys describ global economi other broad distinct within econom includ posit econom describ norm econom advoc ought econom theori appli econom ration behaviour econom mainstream econom heterodox econom econom analysi appli throughout societi includ busi financ cybersecur health care engin govern it also appli divers subject crime educ famili femin law philosophi polit religion social institut war scienc environ\n"
     ]
    }
   ],
   "source": [
    "print(' '.join(stem_text))"
   ]
  },
  {
   "cell_type": "code",
   "execution_count": 41,
   "id": "f775580a-8212-45ef-8a9f-cae002c94ddf",
   "metadata": {},
   "outputs": [],
   "source": [
    "# exercise - create a lemma_text using the pattern above.\n",
    "# view it as a list, join it into a text passage. "
   ]
  },
  {
   "cell_type": "code",
   "execution_count": 43,
   "id": "7831323f-7bbf-4da8-b35f-55808953385c",
   "metadata": {},
   "outputs": [],
   "source": [
    "# take 5 min (resume at 10:33)"
   ]
  },
  {
   "cell_type": "code",
   "execution_count": 45,
   "id": "dc36069e-ee02-4e28-bb8b-9ae138c4cd9a",
   "metadata": {},
   "outputs": [],
   "source": [
    "lemma_text = []\n",
    "for w in cleaned_text:\n",
    "    #print(lemmatizer.lemmatize(w))\n",
    "    lemma_text.append(lemmatizer.lemmatize(w))"
   ]
  },
  {
   "cell_type": "code",
   "execution_count": 46,
   "id": "8df20e83-594b-4d47-874b-d1c6e6dec059",
   "metadata": {},
   "outputs": [
    {
     "name": "stdout",
     "output_type": "stream",
     "text": [
      "economics k social science study production distribution consumption good service economics focus behaviour interaction economic agent economy work microeconomics analysis viewed basic element within economy including individual agent market interaction outcome interaction individual agent may include example household firm buyer seller macroeconomics analysis economy system production distribution consumption saving investment expenditure interact factor affecting factor production labour capital land enterprise inflation economic growth public policy impact element it also seek analyse describe global economy other broad distinction within economics include positive economics describing normative economics advocating ought economic theory applied economics rational behavioural economics mainstream economics heterodox economics economic analysis applied throughout society including business finance cybersecurity health care engineering government it also applied diverse subject crime education family feminism law philosophy politics religion social institution war science environment\n"
     ]
    }
   ],
   "source": [
    "print(' '.join(lemma_text))"
   ]
  },
  {
   "cell_type": "code",
   "execution_count": null,
   "id": "aae48aeb-ba21-4c4a-b1d7-0536fe93ae34",
   "metadata": {},
   "outputs": [],
   "source": []
  }
 ],
 "metadata": {
  "kernelspec": {
   "display_name": "Python 3 (ipykernel)",
   "language": "python",
   "name": "python3"
  },
  "language_info": {
   "codemirror_mode": {
    "name": "ipython",
    "version": 3
   },
   "file_extension": ".py",
   "mimetype": "text/x-python",
   "name": "python",
   "nbconvert_exporter": "python",
   "pygments_lexer": "ipython3",
   "version": "3.11.7"
  }
 },
 "nbformat": 4,
 "nbformat_minor": 5
}
