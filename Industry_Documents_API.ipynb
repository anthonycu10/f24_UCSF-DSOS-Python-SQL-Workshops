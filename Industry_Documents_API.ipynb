{
  "nbformat": 4,
  "nbformat_minor": 0,
  "metadata": {
    "colab": {
      "provenance": []
    },
    "kernelspec": {
      "name": "python3",
      "display_name": "Python 3"
    },
    "language_info": {
      "name": "python"
    }
  },
  "cells": [
    {
      "cell_type": "code",
      "execution_count": null,
      "metadata": {
        "id": "8wVtmTV9uPZV"
      },
      "outputs": [],
      "source": [
        "#https://metadata.idl.ucsf.edu/solr/ltdl3/query?q=author:glantz"
      ]
    },
    {
      "cell_type": "code",
      "source": [
        "import requests"
      ],
      "metadata": {
        "id": "7zMJZzJ5utKb"
      },
      "execution_count": null,
      "outputs": []
    },
    {
      "cell_type": "code",
      "source": [
        "url = \"https://metadata.idl.ucsf.edu/solr/ltdl3/query?q=marlboro&wt=json\""
      ],
      "metadata": {
        "id": "W5wdb-GDuxlA"
      },
      "execution_count": null,
      "outputs": []
    },
    {
      "cell_type": "code",
      "source": [
        "r = requests.get(url)"
      ],
      "metadata": {
        "id": "x5dN7M0AuzQ7"
      },
      "execution_count": null,
      "outputs": []
    },
    {
      "cell_type": "code",
      "source": [
        "r"
      ],
      "metadata": {
        "colab": {
          "base_uri": "https://localhost:8080/"
        },
        "id": "Y0F7fohqu2QO",
        "outputId": "2485d051-9d7a-486f-ee4d-e5c5116db586"
      },
      "execution_count": null,
      "outputs": [
        {
          "output_type": "execute_result",
          "data": {
            "text/plain": [
              "<Response [200]>"
            ]
          },
          "metadata": {},
          "execution_count": 21
        }
      ]
    },
    {
      "cell_type": "code",
      "source": [
        "json_doc = r.json()\n",
        "\n",
        "# note - the json_doc can be very long so I'm not printing it for the upload to github."
      ],
      "metadata": {
        "id": "4Il0ghOLu3DC"
      },
      "execution_count": null,
      "outputs": []
    },
    {
      "cell_type": "code",
      "source": [
        "for doc in json_doc['response']['docs']:\n",
        "  title = doc['title']\n",
        "  if 'LEGAL' in title.upper():\n",
        "    print(title)\n"
      ],
      "metadata": {
        "colab": {
          "base_uri": "https://localhost:8080/"
        },
        "id": "ilZTEy8zu3_M",
        "outputId": "77503659-06b0-4617-e8ef-4ae9a22933f5"
      },
      "execution_count": null,
      "outputs": [
        {
          "output_type": "stream",
          "name": "stdout",
          "text": [
            "LETTER PREPARED BY PHILIP MORRIS OUTSIDE CONSULTANT'S COUNSEL AND SENT TO PHILIP MORRIS OUTSIDE CONSULTANT PROVIDING LEGAL ANALYSIS AND ADVICE REGARDING MARLBORO PROMOTION PROGRAM, SUBSEQUENTLY FORWARDED TO PHILIP MORRIS IN-HOUSE COUNSEL;  MARLBORO \"PARTY AT THE MARLBORO RANCH; MARLBORO \"PARTY AT THE MARLBORO RANCH\"\n",
            "MEMORANDUM FROM PHILIP MORRIS COUNSEL TO PHILIP MORRIS COUNSEL AND PHILIP MORRIS EMPLOYEE REGARDING BUBBLE GUM INFRINGEMENT OF MARLBORO, WITH HANDWRITTEN MARGINALIA FROM B. ECK TO B. KRIVISKY REQUESTING LEGAL ADVICE REGARDING SAME || PHILADELPHIA CHEWING GUM CORPORATION - MARLBORO BUBBLE GUM INFRINGEMENT OF MARLBORO; PHILADELPHIA CHEWING GUM CORPORATION - MARLBORO BUBBLE GUM INFRINGEMENT OF MARLBORO\n",
            "LETTER PREPARED BY PHILIP MORRIS OUTSIDE CONSULTANT'S COUNSEL AND SENT TO PHILIP MORRIS OUTSIDE CONSULTANT PROVIDING LEGAL ANALYSIS AND ADVICE REGARDING MARLBORO PROMOTION PROGRAM, SUBSEQUENTLY FORWARDED TO PHILIP MORRIS IN-HOUSE COUNSEL;  MARLBORO \"PARTY AT THE MARLBORO RANCH; MARLBORO \"PARTY AT THE MARLBORO RANCH\"\n"
          ]
        }
      ]
    },
    {
      "cell_type": "code",
      "source": [
        "# prompt: using the documentation at https://www.industrydocuments.ucsf.edu/wp-content/uploads/2020/08/IndustryDocumentsDataAPI_v7.pdf, query all documents containing the term marlboro and print out all titles that have the word legal (case insensitive)\n",
        "\n",
        "import requests\n",
        "import re\n",
        "\n",
        "url = \"https://metadata.idl.ucsf.edu/solr/ltdl3/query?q=marlboro&wt=json\"\n",
        "r = requests.get(url)\n",
        "json_doc = r.json()\n",
        "\n",
        "for doc in json_doc['response']['docs']:\n",
        "  title = doc['title']\n",
        "  if re.search(r\"legal\", title, re.IGNORECASE):\n",
        "    print(title)"
      ],
      "metadata": {
        "colab": {
          "base_uri": "https://localhost:8080/"
        },
        "id": "A2Xo-kNQvopS",
        "outputId": "215f0148-9bb3-4844-ca92-59c33e384cb5"
      },
      "execution_count": null,
      "outputs": [
        {
          "output_type": "stream",
          "name": "stdout",
          "text": [
            "LETTER PREPARED BY PHILIP MORRIS OUTSIDE CONSULTANT'S COUNSEL AND SENT TO PHILIP MORRIS OUTSIDE CONSULTANT PROVIDING LEGAL ANALYSIS AND ADVICE REGARDING MARLBORO PROMOTION PROGRAM, SUBSEQUENTLY FORWARDED TO PHILIP MORRIS IN-HOUSE COUNSEL;  MARLBORO \"PARTY AT THE MARLBORO RANCH; MARLBORO \"PARTY AT THE MARLBORO RANCH\"\n",
            "MEMORANDUM FROM PHILIP MORRIS COUNSEL TO PHILIP MORRIS COUNSEL AND PHILIP MORRIS EMPLOYEE REGARDING BUBBLE GUM INFRINGEMENT OF MARLBORO, WITH HANDWRITTEN MARGINALIA FROM B. ECK TO B. KRIVISKY REQUESTING LEGAL ADVICE REGARDING SAME || PHILADELPHIA CHEWING GUM CORPORATION - MARLBORO BUBBLE GUM INFRINGEMENT OF MARLBORO; PHILADELPHIA CHEWING GUM CORPORATION - MARLBORO BUBBLE GUM INFRINGEMENT OF MARLBORO\n",
            "LETTER PREPARED BY PHILIP MORRIS OUTSIDE CONSULTANT'S COUNSEL AND SENT TO PHILIP MORRIS OUTSIDE CONSULTANT PROVIDING LEGAL ANALYSIS AND ADVICE REGARDING MARLBORO PROMOTION PROGRAM, SUBSEQUENTLY FORWARDED TO PHILIP MORRIS IN-HOUSE COUNSEL;  MARLBORO \"PARTY AT THE MARLBORO RANCH; MARLBORO \"PARTY AT THE MARLBORO RANCH\"\n"
          ]
        }
      ]
    },
    {
      "cell_type": "code",
      "source": [
        "# prompt: using the document at https://www.industrydocuments.ucsf.edu/wp-content/uploads/2020/08/IndustryDocumentsDataAPI_v7.pdf, find all relevant court case documents relating to chewing gum\n",
        "\n",
        "import requests\n",
        "import re\n",
        "\n",
        "url = \"https://metadata.idl.ucsf.edu/solr/ltdl3/query?q=chewing+gum&wt=json\"\n",
        "r = requests.get(url)\n",
        "json_doc = r.json()\n",
        "\n",
        "for doc in json_doc['response']['docs']:\n",
        "  title = doc['title']\n",
        "  if re.search(r\"legal|court|lawsuit\", title, re.IGNORECASE):\n",
        "    print(title)"
      ],
      "metadata": {
        "colab": {
          "base_uri": "https://localhost:8080/"
        },
        "id": "JpbYOd65xmmW",
        "outputId": "88dbe1d6-6276-4e64-c1e3-91d43a1b65d0"
      },
      "execution_count": null,
      "outputs": [
        {
          "output_type": "stream",
          "name": "stdout",
          "text": [
            "MEMORANDUM FROM PHILIP MORRIS COUNSEL TO PHILIP MORRIS COUNSEL AND PHILIP MORRIS EMPLOYEE REGARDING BUBBLE GUM INFRINGEMENT OF MARLBORO, WITH HANDWRITTEN MARGINALIA FROM B. ECK TO B. KRIVISKY REQUESTING LEGAL ADVICE REGARDING SAME || PHILADELPHIA CHEWING GUM CORPORATION - MARLBORO BUBBLE GUM INFRINGEMENT OF MARLBORO; PHILADELPHIA CHEWING GUM CORPORATION - MARLBORO BUBBLE GUM INFRINGEMENT OF MARLBORO\n"
          ]
        }
      ]
    }
  ]
}