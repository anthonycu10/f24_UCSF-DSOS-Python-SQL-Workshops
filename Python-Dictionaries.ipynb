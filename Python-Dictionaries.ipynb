{
 "cells": [
  {
   "cell_type": "code",
   "execution_count": 2,
   "id": "3b54c5ce-dbba-4c55-bb44-70fc27cd21b4",
   "metadata": {},
   "outputs": [],
   "source": [
    "days = [\"Sunday\", \"Monday\", \"Tuesday\"]"
   ]
  },
  {
   "cell_type": "code",
   "execution_count": 10,
   "id": "19f556b0-c2b6-4d56-b9b0-903ff3227e04",
   "metadata": {},
   "outputs": [],
   "source": [
    "temperature = [55, 60, 52]"
   ]
  },
  {
   "cell_type": "code",
   "execution_count": 11,
   "id": "ef5566f6-eb92-4b59-a4d2-29970b83d488",
   "metadata": {},
   "outputs": [],
   "source": [
    "# how would you get the temperature on Tuesday? O(N^2)"
   ]
  },
  {
   "cell_type": "code",
   "execution_count": 12,
   "id": "bd0d8e60-acb5-423e-a916-d627731f132d",
   "metadata": {},
   "outputs": [
    {
     "data": {
      "text/plain": [
       "2"
      ]
     },
     "execution_count": 12,
     "metadata": {},
     "output_type": "execute_result"
    }
   ],
   "source": [
    "days.index(\"Tuesday\")"
   ]
  },
  {
   "cell_type": "code",
   "execution_count": 13,
   "id": "325763ad-0410-4152-a52d-efaf2813d92e",
   "metadata": {},
   "outputs": [
    {
     "data": {
      "text/plain": [
       "52"
      ]
     },
     "execution_count": 13,
     "metadata": {},
     "output_type": "execute_result"
    }
   ],
   "source": [
    "temperature[2]"
   ]
  },
  {
   "cell_type": "code",
   "execution_count": 14,
   "id": "ba88a4f0-dc5f-4f8d-a0b1-92c0fbb239c4",
   "metadata": {},
   "outputs": [
    {
     "ename": "TypeError",
     "evalue": "list indices must be integers or slices, not str",
     "output_type": "error",
     "traceback": [
      "\u001b[0;31m---------------------------------------------------------------------------\u001b[0m",
      "\u001b[0;31mTypeError\u001b[0m                                 Traceback (most recent call last)",
      "Cell \u001b[0;32mIn[14], line 1\u001b[0m\n\u001b[0;32m----> 1\u001b[0m temperature[\u001b[38;5;124m\"\u001b[39m\u001b[38;5;124mTuesday\u001b[39m\u001b[38;5;124m\"\u001b[39m]\n",
      "\u001b[0;31mTypeError\u001b[0m: list indices must be integers or slices, not str"
     ]
    }
   ],
   "source": [
    "temperature[\"Tuesday\"]"
   ]
  },
  {
   "cell_type": "code",
   "execution_count": 15,
   "id": "2afd24ec-0359-4eb8-a434-c2aa3a41f282",
   "metadata": {},
   "outputs": [],
   "source": [
    "daily_temperature = {\"Sunday\":55, \"Monday\":60, \"Tuesday\":52}"
   ]
  },
  {
   "cell_type": "code",
   "execution_count": 17,
   "id": "0306a043-46a5-4d35-9181-6c2b1ee35834",
   "metadata": {},
   "outputs": [
    {
     "data": {
      "text/plain": [
       "list"
      ]
     },
     "execution_count": 17,
     "metadata": {},
     "output_type": "execute_result"
    }
   ],
   "source": [
    "type(days)"
   ]
  },
  {
   "cell_type": "code",
   "execution_count": 18,
   "id": "cd236de3-48d0-4ebb-98c4-9e8ae6506b2e",
   "metadata": {},
   "outputs": [
    {
     "name": "stdout",
     "output_type": "stream",
     "text": [
      "Variable            Type    Data/Info\n",
      "-------------------------------------\n",
      "daily_temperature   dict    n=3\n",
      "days                list    n=3\n",
      "temperature         list    n=3\n"
     ]
    }
   ],
   "source": [
    "whos"
   ]
  },
  {
   "cell_type": "code",
   "execution_count": 21,
   "id": "20ad9baa-8c6d-41e2-bf58-c0ac5c781f96",
   "metadata": {},
   "outputs": [
    {
     "data": {
      "text/plain": [
       "60"
      ]
     },
     "execution_count": 21,
     "metadata": {},
     "output_type": "execute_result"
    }
   ],
   "source": [
    "daily_temperature[\"Monday\"] # O(N)"
   ]
  },
  {
   "cell_type": "code",
   "execution_count": 22,
   "id": "cf5f0d50-1c8f-4360-bec7-25304b7a2a06",
   "metadata": {},
   "outputs": [],
   "source": [
    "# https://www.mayoclinic.org/healthy-lifestyle/nutrition-and-healthy-eating/in-depth/caffeine/art-20049372"
   ]
  },
  {
   "cell_type": "code",
   "execution_count": 38,
   "id": "19acf152-1923-457d-957a-117ccd25cac6",
   "metadata": {},
   "outputs": [],
   "source": [
    "caffeine_content = {'coffee':\n",
    "                    {'brewed': 96, 'decaf': 2, 'esperesso': 64}, \n",
    "                    'tea':\n",
    "                    {'black': 47, 'green': 28}}"
   ]
  },
  {
   "cell_type": "code",
   "execution_count": 33,
   "id": "b99444b4-105e-4439-b394-04ddc8ce9d35",
   "metadata": {},
   "outputs": [
    {
     "data": {
      "text/plain": [
       "dict_keys(['coffee', 'tea'])"
      ]
     },
     "execution_count": 33,
     "metadata": {},
     "output_type": "execute_result"
    }
   ],
   "source": [
    "caffeine_content.keys()"
   ]
  },
  {
   "cell_type": "code",
   "execution_count": 34,
   "id": "7c801e4a-2113-4e3e-a7c9-37ce359c1882",
   "metadata": {},
   "outputs": [
    {
     "data": {
      "text/plain": [
       "{'brewed': 96, 'decaf': 2, 'esperesso': 64}"
      ]
     },
     "execution_count": 34,
     "metadata": {},
     "output_type": "execute_result"
    }
   ],
   "source": [
    "caffeine_content['coffee']"
   ]
  },
  {
   "cell_type": "code",
   "execution_count": 35,
   "id": "2d453dcf-32b5-49ce-8432-abfd6afdc91f",
   "metadata": {},
   "outputs": [
    {
     "data": {
      "text/plain": [
       "dict_keys(['brewed', 'decaf', 'esperesso'])"
      ]
     },
     "execution_count": 35,
     "metadata": {},
     "output_type": "execute_result"
    }
   ],
   "source": [
    "caffeine_content['coffee'].keys()"
   ]
  },
  {
   "cell_type": "code",
   "execution_count": 36,
   "id": "4522cf87-4cf3-44f3-965a-34c834b927c4",
   "metadata": {},
   "outputs": [
    {
     "data": {
      "text/plain": [
       "64"
      ]
     },
     "execution_count": 36,
     "metadata": {},
     "output_type": "execute_result"
    }
   ],
   "source": [
    "caffeine_content['coffee']['esperesso']"
   ]
  },
  {
   "cell_type": "code",
   "execution_count": 39,
   "id": "ad6e2943-d661-41bf-8374-a3ae14eb12c5",
   "metadata": {},
   "outputs": [],
   "source": [
    "# exercise: add some data for energy drinks or sodas to your dictionary\n",
    "# look at some of the keys and do a few lookups\n",
    "# resume at 9:40."
   ]
  },
  {
   "cell_type": "code",
   "execution_count": 46,
   "id": "9df5063c-8fbd-4874-bde7-10193f5b1609",
   "metadata": {},
   "outputs": [],
   "source": [
    "caffeine_content['energy_drink'] = 72 "
   ]
  },
  {
   "cell_type": "code",
   "execution_count": 47,
   "id": "bcd6f3c0-520a-4ddb-872d-0d54378ba55f",
   "metadata": {},
   "outputs": [
    {
     "data": {
      "text/plain": [
       "{'coffee': {'brewed': 96, 'decaf': 2, 'esperesso': 64},\n",
       " 'tea': {'black': 47, 'green': 28},\n",
       " 'energy_drink': 72}"
      ]
     },
     "execution_count": 47,
     "metadata": {},
     "output_type": "execute_result"
    }
   ],
   "source": [
    "caffeine_content"
   ]
  },
  {
   "cell_type": "code",
   "execution_count": 48,
   "id": "7acd4296-d9ea-4c30-a07e-a1f853ac7490",
   "metadata": {},
   "outputs": [],
   "source": [
    "genai_caffeine_content = {\n",
    "    \"Beverages\": {\n",
    "        \"Brewed coffee\": {\n",
    "            \"8-ounce cup\": \"80-100 milligrams\",\n",
    "            \"12-ounce cup\": \"160-200 milligrams\",\n",
    "            \"16-ounce cup\": \"260-300 milligrams\"\n",
    "        },\n",
    "        \"Espresso\": {\n",
    "            \"1 shot (1 ounce)\": \"40-75 milligrams\",\n",
    "            \"2 shots (2 ounces)\": \"80-150 milligrams\"\n",
    "        },\n",
    "        \"Instant coffee\": {\n",
    "            \"8-ounce cup\": \"60-100 milligrams\"\n",
    "        },\n",
    "        \"Decaf coffee\": {\n",
    "            \"8-ounce cup\": \"2-15 milligrams\"\n",
    "        },\n",
    "        \"Tea\": {\n",
    "            \"Black tea (8 ounce)\": \"40-70 milligrams\",\n",
    "            \"Green tea (8 ounce)\": \"20-45 milligrams\",\n",
    "            \"Herbal tea\": \"0 milligrams\"\n",
    "        },\n",
    "        \"Soda/Soft drinks\": {\n",
    "            \"12-ounce can\": \"25-50 milligrams\"\n",
    "        },\n",
    "        \"Energy drinks\": {\n",
    "            \"8-ounce can\": \"80-150 milligrams\",\n",
    "            \"16-ounce can\": \"160-300 milligrams\"\n",
    "        },\n",
    "        \"Chocolate milk\": {\n",
    "            \"8-ounce glass\": \"10-20 milligrams\"\n",
    "        },\n",
    "        \"Dark chocolate\": {\n",
    "            \"1-ounce bar\": \"12 milligrams\"\n",
    "        }\n",
    "\n",
    "    },\n",
    "    \"Foods\": {\n",
    "        \"Dark chocolate\": {\n",
    "            \"1-ounce bar\": \"12 milligrams\"\n",
    "        }\n",
    "\n",
    "    }\n",
    "}"
   ]
  },
  {
   "cell_type": "code",
   "execution_count": 49,
   "id": "95538385-20c1-4b49-8c78-b4edf2d096a6",
   "metadata": {},
   "outputs": [
    {
     "data": {
      "text/plain": [
       "dict_keys(['Beverages', 'Foods'])"
      ]
     },
     "execution_count": 49,
     "metadata": {},
     "output_type": "execute_result"
    }
   ],
   "source": [
    "genai_caffeine_content.keys()"
   ]
  },
  {
   "cell_type": "code",
   "execution_count": 50,
   "id": "88d714da-1e72-4373-9f78-c51a9a72c79d",
   "metadata": {},
   "outputs": [
    {
     "data": {
      "text/plain": [
       "dict_keys(['Brewed coffee', 'Espresso', 'Instant coffee', 'Decaf coffee', 'Tea', 'Soda/Soft drinks', 'Energy drinks', 'Chocolate milk', 'Dark chocolate'])"
      ]
     },
     "execution_count": 50,
     "metadata": {},
     "output_type": "execute_result"
    }
   ],
   "source": [
    "genai_caffeine_content['Beverages'].keys()"
   ]
  },
  {
   "cell_type": "code",
   "execution_count": 51,
   "id": "19b6cfff-5af4-4b4f-9400-41f8189987a0",
   "metadata": {},
   "outputs": [],
   "source": [
    "# on a break until 10:07. Here are the two datasets:\n",
    "# https://lhncbc.nlm.nih.gov/RxNav/APIs/RxNormAPIs.html\n",
    "# https://www.industrydocuments.ucsf.edu/research-tools/api/"
   ]
  },
  {
   "cell_type": "code",
   "execution_count": null,
   "id": "054bfec8-e0b4-4182-b81e-04938b13c48b",
   "metadata": {},
   "outputs": [],
   "source": [
    "# bre"
   ]
  }
 ],
 "metadata": {
  "kernelspec": {
   "display_name": "Python 3 (ipykernel)",
   "language": "python",
   "name": "python3"
  },
  "language_info": {
   "codemirror_mode": {
    "name": "ipython",
    "version": 3
   },
   "file_extension": ".py",
   "mimetype": "text/x-python",
   "name": "python",
   "nbconvert_exporter": "python",
   "pygments_lexer": "ipython3",
   "version": "3.11.7"
  }
 },
 "nbformat": 4,
 "nbformat_minor": 5
}
